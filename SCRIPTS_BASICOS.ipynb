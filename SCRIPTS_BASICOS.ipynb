{
  "nbformat": 4,
  "nbformat_minor": 0,
  "metadata": {
    "colab": {
      "provenance": [],
      "authorship_tag": "ABX9TyMDl7xElyxO5MJ88XNPArVt",
      "include_colab_link": true
    },
    "kernelspec": {
      "name": "python3",
      "display_name": "Python 3"
    },
    "language_info": {
      "name": "python"
    },
    "gpuClass": "standard"
  },
  "cells": [
    {
      "cell_type": "markdown",
      "metadata": {
        "id": "view-in-github",
        "colab_type": "text"
      },
      "source": [
        "<a href=\"https://colab.research.google.com/github/hsantos1985/Datasets_analysis/blob/main/SCRIPTS_BASICOS.ipynb\" target=\"_parent\"><img src=\"https://colab.research.google.com/assets/colab-badge.svg\" alt=\"Open In Colab\"/></a>"
      ]
    },
    {
      "cell_type": "markdown",
      "source": [
        "SCRIPTS BÁSICOS"
      ],
      "metadata": {
        "id": "ndq64y34tJDy"
      }
    },
    {
      "cell_type": "code",
      "execution_count": null,
      "metadata": {
        "id": "VP4aYbavtEwx"
      },
      "outputs": [],
      "source": [
        "def saudacao():\n",
        "    nome = input('Qual é o seu nome? ')\n",
        "    print(f'Olá {nome}, muito prazer!!')"
      ]
    },
    {
      "cell_type": "code",
      "source": [
        "saudacao()"
      ],
      "metadata": {
        "colab": {
          "base_uri": "https://localhost:8080/"
        },
        "id": "WYboZVbmuBec",
        "outputId": "b38539de-eeb0-4345-9fb3-b8ddc9a2a3e0"
      },
      "execution_count": null,
      "outputs": [
        {
          "output_type": "stream",
          "name": "stdout",
          "text": [
            "Qual é o seu nome? HEITOR\n",
            "Olá HEITOR, muito prazer!!\n"
          ]
        }
      ]
    },
    {
      "cell_type": "code",
      "source": [
        "def nome_completo():\n",
        " primeiro_nome = input('Qual seu primeiro nome? ')\n",
        " sobrenome = input('Qual seu sobrenome? ')\n",
        " nome_inteiro = primeiro_nome + ' ' + sobrenome\n",
        " print(nome_inteiro)\n",
        "\n",
        "nome_completo()"
      ],
      "metadata": {
        "colab": {
          "base_uri": "https://localhost:8080/"
        },
        "id": "DL6Nco2auJbS",
        "outputId": "910c3a05-fb9c-43c8-f590-7ec9dae649c3"
      },
      "execution_count": null,
      "outputs": [
        {
          "output_type": "stream",
          "name": "stdout",
          "text": [
            "Qual seu primeiro nome? HEITOR\n",
            "Qual seu sobrenome? SANTOS\n",
            "HEITOR SANTOS\n"
          ]
        }
      ]
    },
    {
      "cell_type": "code",
      "source": [
        "def permissao_dirigir():\n",
        "    idade=input('Qual é a sua idade?')\n",
        "    idade = int(idade)\n",
        "    if idade<=17:\n",
        "        print('Você não tem permissão para dirigir')\n",
        "    else:\n",
        "        print('Você pode dirigir')"
      ],
      "metadata": {
        "id": "LxIIfZB7uUwA"
      },
      "execution_count": null,
      "outputs": []
    },
    {
      "cell_type": "code",
      "source": [
        "permissao_dirigir()"
      ],
      "metadata": {
        "colab": {
          "base_uri": "https://localhost:8080/"
        },
        "id": "W2OciSC1ubL5",
        "outputId": "de47f30e-14f2-49e8-aef0-113842806425"
      },
      "execution_count": null,
      "outputs": [
        {
          "output_type": "stream",
          "name": "stdout",
          "text": [
            "Qual é a sua idade?25\n",
            "Você pode dirigir\n"
          ]
        }
      ]
    },
    {
      "cell_type": "code",
      "source": [
        "idade=10\n",
        "\n",
        "def permissao_dirigir(idade):\n",
        "    if idade<=17:\n",
        "        print('Você não tem permissão para dirigir')\n",
        "    else:\n",
        "        print('Você pode dirigir')\n",
        "        \n",
        "permissao_dirigir(idade)"
      ],
      "metadata": {
        "colab": {
          "base_uri": "https://localhost:8080/"
        },
        "id": "mU7ORZO4urpt",
        "outputId": "0af9fc25-da51-46cb-efb2-710169796fad"
      },
      "execution_count": null,
      "outputs": [
        {
          "output_type": "stream",
          "name": "stdout",
          "text": [
            "Você não tem permissão para dirigir\n"
          ]
        }
      ]
    },
    {
      "cell_type": "code",
      "source": [
        "idades=[16,14,34,9,55]"
      ],
      "metadata": {
        "id": "kVqtKycEur6a"
      },
      "execution_count": null,
      "outputs": []
    },
    {
      "cell_type": "code",
      "source": [
        "def permissao_dirigir(idade):\n",
        "    if idade>=18:\n",
        "        print(f'{idade} anos de idade, tem permissão para dirigir')\n",
        "    else:\n",
        "        print(f'{idade} anos de idade, não tem permissão para dirigir')"
      ],
      "metadata": {
        "id": "0_3Wkvutu3KS"
      },
      "execution_count": null,
      "outputs": []
    },
    {
      "cell_type": "code",
      "source": [
        "#fora da função\n",
        "\n",
        "for idade in idades:\n",
        "    permissao_dirigir(idade)"
      ],
      "metadata": {
        "colab": {
          "base_uri": "https://localhost:8080/"
        },
        "id": "Og_KB9OKvOxU",
        "outputId": "8558ff65-9773-4285-e835-ee0d37361a10"
      },
      "execution_count": null,
      "outputs": [
        {
          "output_type": "stream",
          "name": "stdout",
          "text": [
            "16 anos de idade, não tem permissão para dirigir\n",
            "14 anos de idade, não tem permissão para dirigir\n",
            "34 anos de idade, tem permissão para dirigir\n",
            "9 anos de idade, não tem permissão para dirigir\n",
            "55 anos de idade, tem permissão para dirigir\n"
          ]
        }
      ]
    },
    {
      "cell_type": "code",
      "source": [
        "#dentro da função\n",
        "\n",
        "\n",
        "def permissao_dirigir(idades):\n",
        "    for i in idades:\n",
        "        if i>=18:\n",
        "            print(f'{i} anos de idade, tem permissão para dirigir')\n",
        "        else:\n",
        "            print(f'{i} anos de idade, não tem permissão para dirigir')\n",
        "             \n",
        "permissao_dirigir(idades)"
      ],
      "metadata": {
        "colab": {
          "base_uri": "https://localhost:8080/"
        },
        "id": "eyB5co2JvT0k",
        "outputId": "3baa1b4d-0ff7-4211-f8b7-b094ce045226"
      },
      "execution_count": null,
      "outputs": [
        {
          "output_type": "stream",
          "name": "stdout",
          "text": [
            "16 anos de idade, não tem permissão para dirigir\n",
            "14 anos de idade, não tem permissão para dirigir\n",
            "34 anos de idade, tem permissão para dirigir\n",
            "9 anos de idade, não tem permissão para dirigir\n",
            "55 anos de idade, tem permissão para dirigir\n"
          ]
        }
      ]
    },
    {
      "cell_type": "code",
      "source": [
        "frase_alura = [' Digitais', 'e ', 'Negócios ', 'de ', 'Tecnologia ', 'Cursos ']"
      ],
      "metadata": {
        "id": "Di3uMAZlvT-D"
      },
      "execution_count": null,
      "outputs": []
    },
    {
      "cell_type": "code",
      "source": [
        "frase_alura[-1]"
      ],
      "metadata": {
        "colab": {
          "base_uri": "https://localhost:8080/",
          "height": 35
        },
        "id": "wYhc5TorvcDC",
        "outputId": "dc87fd22-deec-49e8-9f65-17ab69568007"
      },
      "execution_count": null,
      "outputs": [
        {
          "output_type": "execute_result",
          "data": {
            "text/plain": [
              "'Cursos '"
            ],
            "application/vnd.google.colaboratory.intrinsic+json": {
              "type": "string"
            }
          },
          "metadata": {},
          "execution_count": 13
        }
      ]
    },
    {
      "cell_type": "code",
      "source": [
        "a=6\n",
        "\n",
        "if a < 2:\n",
        " a = a + 1\n",
        "else:\n",
        " a = a + 2\n",
        "if a < 4:\n",
        " a = a - 4\n",
        "else:\n",
        " a = a + 6\n",
        "\n",
        "a"
      ],
      "metadata": {
        "colab": {
          "base_uri": "https://localhost:8080/"
        },
        "id": "Lcp8-ZJevUFm",
        "outputId": "b68ba313-4900-4c11-f791-1d7e5ace3053"
      },
      "execution_count": null,
      "outputs": [
        {
          "output_type": "execute_result",
          "data": {
            "text/plain": [
              "14"
            ]
          },
          "metadata": {},
          "execution_count": 14
        }
      ]
    },
    {
      "cell_type": "code",
      "source": [
        "lista=['Heitor', 200, False, '2', 400, ['a','b','c']]\n",
        "\n",
        "for i in lista:\n",
        "    print(f'O elemento {i} é do tipo: ', type(i))"
      ],
      "metadata": {
        "colab": {
          "base_uri": "https://localhost:8080/"
        },
        "id": "xMmq0okBvppf",
        "outputId": "284d91ab-5430-466d-c6dc-ce5520d4c46e"
      },
      "execution_count": null,
      "outputs": [
        {
          "output_type": "stream",
          "name": "stdout",
          "text": [
            "O elemento Heitor é do tipo:  <class 'str'>\n",
            "O elemento 200 é do tipo:  <class 'int'>\n",
            "O elemento False é do tipo:  <class 'bool'>\n",
            "O elemento 2 é do tipo:  <class 'str'>\n",
            "O elemento 400 é do tipo:  <class 'int'>\n",
            "O elemento ['a', 'b', 'c'] é do tipo:  <class 'list'>\n"
          ]
        }
      ]
    },
    {
      "cell_type": "code",
      "source": [
        "from random import randrange, seed"
      ],
      "metadata": {
        "id": "gejep5mwvp09"
      },
      "execution_count": null,
      "outputs": []
    },
    {
      "cell_type": "code",
      "source": [
        "randrange(10,20)"
      ],
      "metadata": {
        "colab": {
          "base_uri": "https://localhost:8080/"
        },
        "id": "nCSk9VtVvt0d",
        "outputId": "c11c08c3-cebe-4f41-d1a7-6014aafed09b"
      },
      "execution_count": null,
      "outputs": [
        {
          "output_type": "execute_result",
          "data": {
            "text/plain": [
              "10"
            ]
          },
          "metadata": {},
          "execution_count": 17
        }
      ]
    },
    {
      "cell_type": "code",
      "source": [
        "notas=[]\n",
        "for i in range(9):\n",
        "    notas.append(randrange(0,15))\n",
        "\n",
        "notas"
      ],
      "metadata": {
        "colab": {
          "base_uri": "https://localhost:8080/"
        },
        "id": "ouocXFy9vp7c",
        "outputId": "613e37a9-f010-4e29-d52a-ea5fe31b95c1"
      },
      "execution_count": null,
      "outputs": [
        {
          "output_type": "execute_result",
          "data": {
            "text/plain": [
              "[9, 13, 5, 8, 14, 11, 13, 1, 11]"
            ]
          },
          "metadata": {},
          "execution_count": 18
        }
      ]
    },
    {
      "cell_type": "code",
      "source": [
        "seed(10)"
      ],
      "metadata": {
        "id": "JQg1icOjv3vE"
      },
      "execution_count": null,
      "outputs": []
    },
    {
      "cell_type": "code",
      "source": [
        "notas=[]\n",
        "\n",
        "for i in range(8):\n",
        "    notas.append(randrange(0,10))\n",
        "\n",
        "notas"
      ],
      "metadata": {
        "colab": {
          "base_uri": "https://localhost:8080/"
        },
        "id": "Cb9GVDIKv33N",
        "outputId": "fe4f197a-9d9c-4ba7-c270-de52f928b919"
      },
      "execution_count": null,
      "outputs": [
        {
          "output_type": "execute_result",
          "data": {
            "text/plain": [
              "[9, 0, 6, 7, 9, 0, 3, 7]"
            ]
          },
          "metadata": {},
          "execution_count": 20
        }
      ]
    },
    {
      "cell_type": "code",
      "source": [
        "import matplotlib.pyplot as plt"
      ],
      "metadata": {
        "id": "IuwHPwfov39b"
      },
      "execution_count": null,
      "outputs": []
    },
    {
      "cell_type": "code",
      "source": [
        "notas_matematica=[]\n",
        "\n",
        "for i in range(8):\n",
        "    notas_matematica.append(randrange(1,9))\n",
        "\n",
        "notas_matematica"
      ],
      "metadata": {
        "colab": {
          "base_uri": "https://localhost:8080/"
        },
        "id": "mOpM8qPAv9e7",
        "outputId": "6114a5f6-cdaa-40ca-80d7-3c2611a7fc9b"
      },
      "execution_count": null,
      "outputs": [
        {
          "output_type": "execute_result",
          "data": {
            "text/plain": [
              "[8, 5, 3, 1, 8, 6, 2, 4]"
            ]
          },
          "metadata": {},
          "execution_count": 22
        }
      ]
    },
    {
      "cell_type": "code",
      "source": [
        "#gráfico\n",
        "\n",
        "x=list(range(1,9))\n",
        "y=notas_matematica\n",
        "plt.plot(x,y,marker='o')\n",
        "plt.title('Notas matemática')\n",
        "plt.ylabel('Notas')\n",
        "plt.xlabel('Provas')\n",
        "plt.show()"
      ],
      "metadata": {
        "colab": {
          "base_uri": "https://localhost:8080/",
          "height": 295
        },
        "id": "2c-Q7QwSv9lM",
        "outputId": "5a413163-eec2-4509-96fb-90aac63e850f"
      },
      "execution_count": null,
      "outputs": [
        {
          "output_type": "display_data",
          "data": {
            "text/plain": [
              "<Figure size 432x288 with 1 Axes>"
            ],
            "image/png": "[encoded data removed]"
          },
          "metadata": {
            "needs_background": "light"
          }
        }
      ]
    },
    {
      "cell_type": "code",
      "source": [],
      "metadata": {
        "id": "plRjAfn2v9pK"
      },
      "execution_count": null,
      "outputs": []
    }
  ]
}